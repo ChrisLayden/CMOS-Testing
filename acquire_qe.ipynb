{
 "cells": [
  {
   "cell_type": "markdown",
   "metadata": {},
   "source": [
    "#### -----------------------------------------------------------------------------<br>Copyright (c) 2023, Lucid Vision Labs, Inc.\n",
    "##### THE  SOFTWARE  IS  PROVIDED  \"AS IS\",  WITHOUT  WARRANTY  OF  ANY  KIND,<br>EXPRESS  OR  IMPLIED,  INCLUDING  BUT  NOT  LIMITED  TO  THE  WARRANTIES<br>OF  MERCHANTABILITY,  FITNESS  FOR  A  PARTICULAR  PURPOSE  AND<br>NONINFRINGEMENT.  IN  NO  EVENT  SHALL  THE  AUTHORS  OR  COPYRIGHT  HOLDERS<br>BE  LIABLE  FOR  ANY  CLAIM,  DAMAGES  OR  OTHER  LIABILITY,  WHETHER  IN  AN<br>ACTION  OF  CONTRACT,  TORT  OR  OTHERWISE,  ARISING  FROM,  OUT  OF  OR  IN<br>CONNECTION  WITH  THE  SOFTWARE  OR  THE  USE  OR  OTHER  DEALINGS  IN  THE  SOFTWARE.<br>-----------------------------------------------------------------------------"
   ]
  },
  {
   "cell_type": "code",
   "execution_count": 1,
   "metadata": {},
   "outputs": [],
   "source": [
    "import ctypes  # ctypes.cast(), ctypes.POINTER(), ctypes.c_ushort\n",
    "import os  # os.getcwd()\n",
    "import time\n",
    "from pathlib import Path\n",
    "\n",
    "import numpy as np  # pip install numpy\n",
    "from PIL import Image as PIL_Image  # pip install Pillow\n",
    "\n",
    "import time\n",
    "from arena_api.system import system\n",
    "from datetime import datetime"
   ]
  },
  {
   "cell_type": "markdown",
   "metadata": {},
   "source": [
    "##### Exposure: Introduction\n",
    ">    This example introduces the exposure feature. An image's exposure\n",
    "    time refers to the amount of time that a device's sensor is exposed\n",
    "    to a scene before the data is collected. The exposure can be\n",
    "    handled automatically or manually."
   ]
  },
  {
   "cell_type": "code",
   "execution_count": 2,
   "metadata": {},
   "outputs": [],
   "source": [
    "TAB1 = \"  \"\n",
    "TAB2 = \"    \"\n",
    "num_images = 1\n",
    "aq_frame_rate = 0.1 # Hz\n",
    "exposure_time = 1.0 * 10 ** 5 # us\n",
    "gain = 25.0 # dB\n",
    "timeout = 2000"
   ]
  },
  {
   "cell_type": "code",
   "execution_count": 3,
   "metadata": {},
   "outputs": [
    {
     "name": "stdout",
     "output_type": "stream",
     "text": [
      "Device used in the example:\n",
      "  ('1c:0f:af:13:0d:71', 'ATX081S-U', '', '169.254.114.13')\n"
     ]
    }
   ],
   "source": [
    "\"\"\"\n",
    "Waits for the user to connect a device before raising an exception if it fails\n",
    "\"\"\"\n",
    "tries = 0\n",
    "tries_max = 6\n",
    "sleep_time_secs = 10\n",
    "devices = None\n",
    "while tries < tries_max:  # Wait for device for 60 seconds\n",
    "    devices = system.create_device()\n",
    "    if not devices:\n",
    "        print(\n",
    "            f'Try {tries+1} of {tries_max}: waiting for {sleep_time_secs} '\n",
    "            f'secs for a device to be connected!')\n",
    "        for sec_count in range(sleep_time_secs):\n",
    "            time.sleep(1)\n",
    "            print(f'{sec_count + 1 } seconds passed ',\n",
    "                    '.' * sec_count, end='\\r')\n",
    "        tries += 1\n",
    "    else:\n",
    "        break\n",
    "else:\n",
    "    raise Exception(f'No device found! Please connect a device and run '\n",
    "                    f'the example again.')\n",
    "\n",
    "device = devices[0]\n",
    "nodemap = device.nodemap\n",
    "tl_stream_nodemap = device.tl_stream_nodemap\n",
    "print(f'Device used in the example:\\n{TAB1}{device}')"
   ]
  },
  {
   "cell_type": "markdown",
   "metadata": {},
   "source": [
    "##### Obtain relevant camera parameters\n",
    "> Parameters we may want to vary for a given measurement. Disable automatic exposure time, automatic gain, and automatic frame rate."
   ]
  },
  {
   "cell_type": "code",
   "execution_count": 4,
   "metadata": {},
   "outputs": [],
   "source": [
    "nodes = nodemap.get_node(['AcquisitionFrameRateEnable', 'AcquisitionFrameRate', \n",
    "                          'ExposureAuto', 'ExposureTime', 'DeviceIndicatorMode',\n",
    "                          'PixelFormat', 'GainAuto', 'Gain'])\n",
    "\n",
    "nodes['ExposureAuto'].value = 'Off'\n",
    "nodes['GainAuto'].value = 'Off'\n",
    "nodes['AcquisitionFrameRateEnable'].value = True\n",
    "nodes['PixelFormat'].value = 'Mono16'\n",
    "nodes['DeviceIndicatorMode'].value = 'Inactive'"
   ]
  },
  {
   "cell_type": "markdown",
   "metadata": {},
   "source": [
    "##### Set frame rate, exposure time, and gain.\n",
    ">   Before setting these variables, check that they are not outside\n",
    "    of the acceptable range. If any are, return an error."
   ]
  },
  {
   "cell_type": "code",
   "execution_count": 5,
   "metadata": {},
   "outputs": [],
   "source": [
    "def set_node_val(node_string, new_val):\n",
    "    min_val = nodes[node_string].min\n",
    "    max_val = nodes[node_string].max\n",
    "    if (new_val > max_val or new_val < min_val):\n",
    "        raise ValueError(node_string + ' must be between ' +\n",
    "                         format(min_val, '3.2f') + ' and ' +\n",
    "                         format(max_val, '3.2f'))\n",
    "    else:\n",
    "        nodes[node_string].value = new_val\n",
    "\n",
    "set_node_val('AcquisitionFrameRate', aq_frame_rate)\n",
    "set_node_val('ExposureTime', exposure_time)\n",
    "set_node_val('Gain', gain)"
   ]
  },
  {
   "cell_type": "markdown",
   "metadata": {},
   "source": [
    "##### Setup stream values"
   ]
  },
  {
   "cell_type": "code",
   "execution_count": 6,
   "metadata": {},
   "outputs": [],
   "source": [
    "tl_stream_nodemap = device.tl_stream_nodemap\n",
    "tl_stream_nodemap['StreamAutoNegotiatePacketSize'].value = True\n",
    "tl_stream_nodemap['StreamPacketResendEnable'].value = True\n",
    "# object_methods = [name for name in dir(device) if callable(getattr(device, name))]"
   ]
  },
  {
   "cell_type": "markdown",
   "metadata": {},
   "source": [
    "##### Start stream and grab images"
   ]
  },
  {
   "cell_type": "code",
   "execution_count": 7,
   "metadata": {},
   "outputs": [
    {
     "name": "stdout",
     "output_type": "stream",
     "text": [
      "  Getting 1 images\n",
      "    Buffer 0 received | Timestamp (6250255516184 ns)\n",
      "Converting image buffer to a numpy array\n",
      "Saving image\n"
     ]
    }
   ],
   "source": [
    "exposure_time_list = [3.0 * 10 ** 6]\n",
    "num_images = len(exposure_time_list)\n",
    "filter = '9b'\n",
    "\n",
    "print(f\"{TAB1}Getting {num_images} images\")\n",
    "\n",
    "for i, exposure_time in enumerate(exposure_time_list):\n",
    "    set_node_val('ExposureTime', exposure_time)\n",
    "    device.start_stream(1)\n",
    "    buffer = device.get_buffer()\n",
    "\n",
    "    print(f'{TAB2}Buffer {i} received | '\n",
    "            f'Timestamp ({buffer.timestamp_ns} ns)')\n",
    "    end_time = str(datetime.now().hour) + '_' + str(datetime.now().minute) + \\\n",
    "               '_' + str(datetime.now().second)\n",
    "    print('Converting image buffer to a numpy array')\n",
    "\n",
    "    pdata_as16 = ctypes.cast(buffer.pdata,\n",
    "                            ctypes.POINTER(ctypes.c_ushort))\n",
    "    nparray_reshaped = np.ctypeslib.as_array(\n",
    "        pdata_as16,\n",
    "        (buffer.height, buffer.width))\n",
    "\n",
    "    # Saving --------------------------------------------------------------\n",
    "    print('Saving image')\n",
    "\n",
    "    png_name = 'filter' + filter + '_' + end_time + '.png'\n",
    "    nparray_reshaped_as_bytes = nparray_reshaped.tobytes()\n",
    "    png_array = PIL_Image.new('I', nparray_reshaped.T.shape)\n",
    "    png_array.frombytes(nparray_reshaped_as_bytes, 'raw', 'I;16')\n",
    "\n",
    "    png_array.save(os.getcwd() + '\\\\..\\\\Saved Images\\\\QE\\\\Dark Images\\\\' + png_name)\n",
    "\n",
    "    device.requeue_buffer(buffer)\n",
    "    device.stop_stream()"
   ]
  },
  {
   "cell_type": "markdown",
   "metadata": {},
   "source": [
    "##### Clean up ----------------------------------------------------------------\n",
    "> - Destroy device. This call is optional and will automatically be\n",
    "  called for any remaining devices when the system module is unloading.\n"
   ]
  },
  {
   "cell_type": "code",
   "execution_count": 8,
   "metadata": {},
   "outputs": [],
   "source": [
    "system.destroy_device(device)"
   ]
  }
 ],
 "metadata": {
  "interpreter": {
   "hash": "520c5ad4575fadc5aeff8f7fe0ecb965d054482e0492acfe5440edeef6b5197d"
  },
  "kernelspec": {
   "display_name": "Python 3 (ipykernel)",
   "language": "python",
   "name": "python3"
  },
  "language_info": {
   "codemirror_mode": {
    "name": "ipython",
    "version": 3
   },
   "file_extension": ".py",
   "mimetype": "text/x-python",
   "name": "python",
   "nbconvert_exporter": "python",
   "pygments_lexer": "ipython3",
   "version": "3.7.11"
  }
 },
 "nbformat": 4,
 "nbformat_minor": 4
}
